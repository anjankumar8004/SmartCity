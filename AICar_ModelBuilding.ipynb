{
 "cells": [
  {
   "cell_type": "markdown",
   "metadata": {},
   "source": [
    "Model Building"
   ]
  },
  {
   "cell_type": "code",
   "execution_count": 1,
   "metadata": {},
   "outputs": [],
   "source": [
    "import os\n",
    "import pickle\n",
    "import cv2\n",
    "import numpy as np\n",
    "import pandas as pd\n"
   ]
  },
  {
   "cell_type": "code",
   "execution_count": 2,
   "metadata": {},
   "outputs": [
    {
     "data": {
      "text/plain": [
       "(50, 50, 1)"
      ]
     },
     "execution_count": 2,
     "metadata": {},
     "output_type": "execute_result"
    }
   ],
   "source": [
    "#Loading data that saved from data preparation\n",
    "data=np.load('./data.npy')\n",
    "target=np.load('./target.npy')\n",
    "data.shape[1:]"
   ]
  },
  {
   "cell_type": "code",
   "execution_count": 3,
   "metadata": {},
   "outputs": [
    {
     "data": {
      "text/plain": [
       "(10509, 4)"
      ]
     },
     "execution_count": 3,
     "metadata": {},
     "output_type": "execute_result"
    }
   ],
   "source": [
    "target.shape"
   ]
  },
  {
   "cell_type": "code",
   "execution_count": 4,
   "metadata": {},
   "outputs": [
    {
     "data": {
      "text/plain": [
       "array([[[[0.        ],\n",
       "         [0.        ],\n",
       "         [0.        ],\n",
       "         ...,\n",
       "         [0.        ],\n",
       "         [0.        ],\n",
       "         [0.        ]],\n",
       "\n",
       "        [[0.        ],\n",
       "         [0.        ],\n",
       "         [0.        ],\n",
       "         ...,\n",
       "         [0.        ],\n",
       "         [0.        ],\n",
       "         [0.        ]],\n",
       "\n",
       "        [[0.        ],\n",
       "         [0.        ],\n",
       "         [0.        ],\n",
       "         ...,\n",
       "         [0.        ],\n",
       "         [0.        ],\n",
       "         [0.        ]],\n",
       "\n",
       "        ...,\n",
       "\n",
       "        [[0.34117647],\n",
       "         [0.34117647],\n",
       "         [0.34117647],\n",
       "         ...,\n",
       "         [0.34117647],\n",
       "         [0.34117647],\n",
       "         [0.34117647]],\n",
       "\n",
       "        [[0.37254902],\n",
       "         [0.40392157],\n",
       "         [0.40392157],\n",
       "         ...,\n",
       "         [0.40392157],\n",
       "         [0.40392157],\n",
       "         [0.37647059]],\n",
       "\n",
       "        [[0.40392157],\n",
       "         [0.40392157],\n",
       "         [0.40392157],\n",
       "         ...,\n",
       "         [0.40392157],\n",
       "         [0.40392157],\n",
       "         [0.40392157]]],\n",
       "\n",
       "\n",
       "       [[[0.        ],\n",
       "         [0.        ],\n",
       "         [0.        ],\n",
       "         ...,\n",
       "         [0.        ],\n",
       "         [0.        ],\n",
       "         [0.        ]],\n",
       "\n",
       "        [[0.        ],\n",
       "         [0.        ],\n",
       "         [0.        ],\n",
       "         ...,\n",
       "         [0.        ],\n",
       "         [0.        ],\n",
       "         [0.        ]],\n",
       "\n",
       "        [[0.        ],\n",
       "         [0.        ],\n",
       "         [0.        ],\n",
       "         ...,\n",
       "         [0.        ],\n",
       "         [0.        ],\n",
       "         [0.        ]],\n",
       "\n",
       "        ...,\n",
       "\n",
       "        [[0.31372549],\n",
       "         [0.31372549],\n",
       "         [0.31372549],\n",
       "         ...,\n",
       "         [0.31372549],\n",
       "         [0.31372549],\n",
       "         [0.31372549]],\n",
       "\n",
       "        [[0.35294118],\n",
       "         [0.37254902],\n",
       "         [0.37254902],\n",
       "         ...,\n",
       "         [0.37254902],\n",
       "         [0.37254902],\n",
       "         [0.35294118]],\n",
       "\n",
       "        [[0.37254902],\n",
       "         [0.37254902],\n",
       "         [0.37254902],\n",
       "         ...,\n",
       "         [0.37254902],\n",
       "         [0.37254902],\n",
       "         [0.37254902]]],\n",
       "\n",
       "\n",
       "       [[[0.        ],\n",
       "         [0.        ],\n",
       "         [0.        ],\n",
       "         ...,\n",
       "         [0.        ],\n",
       "         [0.        ],\n",
       "         [0.        ]],\n",
       "\n",
       "        [[0.        ],\n",
       "         [0.        ],\n",
       "         [0.        ],\n",
       "         ...,\n",
       "         [0.        ],\n",
       "         [0.        ],\n",
       "         [0.        ]],\n",
       "\n",
       "        [[0.        ],\n",
       "         [0.        ],\n",
       "         [0.        ],\n",
       "         ...,\n",
       "         [0.        ],\n",
       "         [0.        ],\n",
       "         [0.        ]],\n",
       "\n",
       "        ...,\n",
       "\n",
       "        [[0.32156863],\n",
       "         [0.32156863],\n",
       "         [0.32156863],\n",
       "         ...,\n",
       "         [0.32156863],\n",
       "         [0.32156863],\n",
       "         [0.32156863]],\n",
       "\n",
       "        [[0.36078431],\n",
       "         [0.38039216],\n",
       "         [0.38039216],\n",
       "         ...,\n",
       "         [0.38039216],\n",
       "         [0.38039216],\n",
       "         [0.36078431]],\n",
       "\n",
       "        [[0.38039216],\n",
       "         [0.38039216],\n",
       "         [0.38039216],\n",
       "         ...,\n",
       "         [0.38039216],\n",
       "         [0.38039216],\n",
       "         [0.38039216]]],\n",
       "\n",
       "\n",
       "       ...,\n",
       "\n",
       "\n",
       "       [[[0.        ],\n",
       "         [0.        ],\n",
       "         [0.        ],\n",
       "         ...,\n",
       "         [0.        ],\n",
       "         [0.        ],\n",
       "         [0.        ]],\n",
       "\n",
       "        [[0.        ],\n",
       "         [0.        ],\n",
       "         [0.        ],\n",
       "         ...,\n",
       "         [0.        ],\n",
       "         [0.        ],\n",
       "         [0.        ]],\n",
       "\n",
       "        [[0.        ],\n",
       "         [0.        ],\n",
       "         [0.        ],\n",
       "         ...,\n",
       "         [0.        ],\n",
       "         [0.        ],\n",
       "         [0.        ]],\n",
       "\n",
       "        ...,\n",
       "\n",
       "        [[0.80784314],\n",
       "         [0.8       ],\n",
       "         [0.79607843],\n",
       "         ...,\n",
       "         [0.31372549],\n",
       "         [0.31372549],\n",
       "         [0.31372549]],\n",
       "\n",
       "        [[0.35294118],\n",
       "         [0.37254902],\n",
       "         [0.37254902],\n",
       "         ...,\n",
       "         [0.37254902],\n",
       "         [0.37254902],\n",
       "         [0.35294118]],\n",
       "\n",
       "        [[0.37254902],\n",
       "         [0.37254902],\n",
       "         [0.37254902],\n",
       "         ...,\n",
       "         [0.37254902],\n",
       "         [0.37254902],\n",
       "         [0.37254902]]],\n",
       "\n",
       "\n",
       "       [[[0.        ],\n",
       "         [0.        ],\n",
       "         [0.        ],\n",
       "         ...,\n",
       "         [0.        ],\n",
       "         [0.00392157],\n",
       "         [0.12941176]],\n",
       "\n",
       "        [[0.        ],\n",
       "         [0.        ],\n",
       "         [0.        ],\n",
       "         ...,\n",
       "         [0.        ],\n",
       "         [0.00392157],\n",
       "         [0.01960784]],\n",
       "\n",
       "        [[0.        ],\n",
       "         [0.        ],\n",
       "         [0.        ],\n",
       "         ...,\n",
       "         [0.        ],\n",
       "         [0.        ],\n",
       "         [0.        ]],\n",
       "\n",
       "        ...,\n",
       "\n",
       "        [[0.74117647],\n",
       "         [0.7372549 ],\n",
       "         [0.7372549 ],\n",
       "         ...,\n",
       "         [0.31372549],\n",
       "         [0.31372549],\n",
       "         [0.31372549]],\n",
       "\n",
       "        [[0.35294118],\n",
       "         [0.37254902],\n",
       "         [0.37254902],\n",
       "         ...,\n",
       "         [0.37254902],\n",
       "         [0.37254902],\n",
       "         [0.35294118]],\n",
       "\n",
       "        [[0.37254902],\n",
       "         [0.37254902],\n",
       "         [0.37254902],\n",
       "         ...,\n",
       "         [0.37254902],\n",
       "         [0.37254902],\n",
       "         [0.37254902]]],\n",
       "\n",
       "\n",
       "       [[[0.        ],\n",
       "         [0.        ],\n",
       "         [0.        ],\n",
       "         ...,\n",
       "         [0.        ],\n",
       "         [0.        ],\n",
       "         [0.        ]],\n",
       "\n",
       "        [[0.        ],\n",
       "         [0.        ],\n",
       "         [0.        ],\n",
       "         ...,\n",
       "         [0.        ],\n",
       "         [0.        ],\n",
       "         [0.        ]],\n",
       "\n",
       "        [[0.        ],\n",
       "         [0.        ],\n",
       "         [0.        ],\n",
       "         ...,\n",
       "         [0.        ],\n",
       "         [0.        ],\n",
       "         [0.        ]],\n",
       "\n",
       "        ...,\n",
       "\n",
       "        [[0.72941176],\n",
       "         [0.73333333],\n",
       "         [0.73333333],\n",
       "         ...,\n",
       "         [0.7254902 ],\n",
       "         [0.34117647],\n",
       "         [0.3372549 ]],\n",
       "\n",
       "        [[0.38039216],\n",
       "         [0.4       ],\n",
       "         [0.4       ],\n",
       "         ...,\n",
       "         [0.4       ],\n",
       "         [0.4       ],\n",
       "         [0.37647059]],\n",
       "\n",
       "        [[0.4       ],\n",
       "         [0.4       ],\n",
       "         [0.4       ],\n",
       "         ...,\n",
       "         [0.4       ],\n",
       "         [0.4       ],\n",
       "         [0.4       ]]]])"
      ]
     },
     "execution_count": 4,
     "metadata": {},
     "output_type": "execute_result"
    }
   ],
   "source": [
    "data[1:]"
   ]
  },
  {
   "cell_type": "code",
   "execution_count": 5,
   "metadata": {},
   "outputs": [
    {
     "name": "stdout",
     "output_type": "stream",
     "text": [
      "Model: \"sequential\"\n",
      "_________________________________________________________________\n",
      " Layer (type)                Output Shape              Param #   \n",
      "=================================================================\n",
      " conv2d (Conv2D)             (None, 48, 48, 510)       5100      \n",
      "                                                                 \n",
      " activation (Activation)     (None, 48, 48, 510)       0         \n",
      "                                                                 \n",
      " max_pooling2d (MaxPooling2  (None, 24, 24, 510)       0         \n",
      " D)                                                              \n",
      "                                                                 \n",
      " conv2d_1 (Conv2D)           (None, 22, 22, 256)       1175296   \n",
      "                                                                 \n",
      " activation_1 (Activation)   (None, 22, 22, 256)       0         \n",
      "                                                                 \n",
      " max_pooling2d_1 (MaxPoolin  (None, 11, 11, 256)       0         \n",
      " g2D)                                                            \n",
      "                                                                 \n",
      " conv2d_2 (Conv2D)           (None, 9, 9, 128)         295040    \n",
      "                                                                 \n",
      " activation_2 (Activation)   (None, 9, 9, 128)         0         \n",
      "                                                                 \n",
      " max_pooling2d_2 (MaxPoolin  (None, 4, 4, 128)         0         \n",
      " g2D)                                                            \n",
      "                                                                 \n",
      " flatten (Flatten)           (None, 2048)              0         \n",
      "                                                                 \n",
      " dropout (Dropout)           (None, 2048)              0         \n",
      "                                                                 \n",
      " dense (Dense)               (None, 2048)              4196352   \n",
      "                                                                 \n",
      " dropout_1 (Dropout)         (None, 2048)              0         \n",
      "                                                                 \n",
      " dense_1 (Dense)             (None, 256)               524544    \n",
      "                                                                 \n",
      " dropout_2 (Dropout)         (None, 256)               0         \n",
      "                                                                 \n",
      " dense_2 (Dense)             (None, 128)               32896     \n",
      "                                                                 \n",
      " dropout_3 (Dropout)         (None, 128)               0         \n",
      "                                                                 \n",
      " dense_3 (Dense)             (None, 64)                8256      \n",
      "                                                                 \n",
      " dense_4 (Dense)             (None, 4)                 260       \n",
      "                                                                 \n",
      "=================================================================\n",
      "Total params: 6237744 (23.80 MB)\n",
      "Trainable params: 6237744 (23.80 MB)\n",
      "Non-trainable params: 0 (0.00 Byte)\n",
      "_________________________________________________________________\n"
     ]
    }
   ],
   "source": [
    "#Building the CNN Model\n",
    "from keras.models import Sequential\n",
    "from keras.layers import Dense,Activation,Flatten\n",
    "from keras.layers import Conv2D,MaxPooling2D, Dropout\n",
    "\n",
    "model=Sequential()\n",
    "\n",
    "\n",
    "model.add(Conv2D(510,(3,3),input_shape=data.shape[1:]))\n",
    "model.add(Activation('relu'))\n",
    "model.add(MaxPooling2D(pool_size=(2,2)))\n",
    "\n",
    "model.add(Conv2D(256,(3,3)))\n",
    "model.add(Activation('relu'))\n",
    "model.add(MaxPooling2D(pool_size=(2,2)))\n",
    "\n",
    "\n",
    "model.add(Conv2D(128,(3,3)))\n",
    "model.add(Activation('relu'))\n",
    "model.add(MaxPooling2D(pool_size=(2,2)))\n",
    "\n",
    "\n",
    "model.add(Flatten())\n",
    "\n",
    "model.add(Dropout(0.5))\n",
    "model.add(Dense(2048, activation='relu'))\n",
    "model.add(Dropout(0.5))\n",
    "model.add(Dense(256, activation='relu'))\n",
    "model.add(Dropout(0.5))\n",
    "model.add(Dense(128, activation='relu'))\n",
    "model.add(Dropout(0.5))\n",
    "model.add(Dense(64, activation='relu'))\n",
    "\n",
    "model.add(Dense(target.shape[1], activation='softmax'))\n",
    "\n",
    "model.compile(loss='categorical_crossentropy',optimizer='adam',metrics=['accuracy'])\n",
    "\n",
    "model.summary()"
   ]
  },
  {
   "cell_type": "code",
   "execution_count": 6,
   "metadata": {},
   "outputs": [],
   "source": [
    "from sklearn.model_selection import train_test_split\n",
    "\n",
    "train_data,test_data,train_target,test_target=train_test_split(data,target,test_size=0.1)"
   ]
  },
  {
   "cell_type": "code",
   "execution_count": 7,
   "metadata": {},
   "outputs": [
    {
     "name": "stdout",
     "output_type": "stream",
     "text": [
      "Epoch 1/20\n",
      "296/296 [==============================] - 167s 558ms/step - loss: 0.8823 - accuracy: 0.6418 - val_loss: 0.6255 - val_accuracy: 0.7146\n",
      "Epoch 2/20\n",
      "296/296 [==============================] - 170s 574ms/step - loss: 0.6812 - accuracy: 0.7174 - val_loss: 0.5543 - val_accuracy: 0.7669\n",
      "Epoch 3/20\n",
      "296/296 [==============================] - 171s 579ms/step - loss: 0.6074 - accuracy: 0.7572 - val_loss: 0.4558 - val_accuracy: 0.8249\n",
      "Epoch 4/20\n",
      "296/296 [==============================] - 169s 571ms/step - loss: 0.5444 - accuracy: 0.7871 - val_loss: 0.4408 - val_accuracy: 0.8268\n",
      "Epoch 5/20\n",
      "296/296 [==============================] - 169s 572ms/step - loss: 0.5010 - accuracy: 0.8051 - val_loss: 0.4046 - val_accuracy: 0.8440\n",
      "Epoch 6/20\n",
      "296/296 [==============================] - 164s 555ms/step - loss: 0.4521 - accuracy: 0.8273 - val_loss: 0.3232 - val_accuracy: 0.8754\n",
      "Epoch 7/20\n",
      "296/296 [==============================] - 164s 555ms/step - loss: 0.4181 - accuracy: 0.8444 - val_loss: 0.3438 - val_accuracy: 0.8763\n",
      "Epoch 8/20\n",
      "296/296 [==============================] - 162s 548ms/step - loss: 0.3866 - accuracy: 0.8576 - val_loss: 0.2943 - val_accuracy: 0.8991\n",
      "Epoch 9/20\n",
      "296/296 [==============================] - 168s 568ms/step - loss: 0.3577 - accuracy: 0.8658 - val_loss: 0.2868 - val_accuracy: 0.8991\n",
      "Epoch 10/20\n",
      "296/296 [==============================] - 172s 582ms/step - loss: 0.3227 - accuracy: 0.8830 - val_loss: 0.2632 - val_accuracy: 0.9144\n",
      "Epoch 11/20\n",
      "296/296 [==============================] - 178s 602ms/step - loss: 0.3220 - accuracy: 0.8850 - val_loss: 0.2884 - val_accuracy: 0.9049\n",
      "Epoch 12/20\n",
      "296/296 [==============================] - 175s 591ms/step - loss: 0.2948 - accuracy: 0.8959 - val_loss: 0.2434 - val_accuracy: 0.9096\n",
      "Epoch 13/20\n",
      "296/296 [==============================] - 172s 582ms/step - loss: 0.2806 - accuracy: 0.9000 - val_loss: 0.2347 - val_accuracy: 0.9201\n",
      "Epoch 14/20\n",
      "296/296 [==============================] - 169s 572ms/step - loss: 0.2656 - accuracy: 0.9090 - val_loss: 0.2503 - val_accuracy: 0.9210\n",
      "Epoch 15/20\n",
      "296/296 [==============================] - 172s 583ms/step - loss: 0.2594 - accuracy: 0.9066 - val_loss: 0.2258 - val_accuracy: 0.9220\n",
      "Epoch 16/20\n",
      "296/296 [==============================] - 171s 576ms/step - loss: 0.2491 - accuracy: 0.9115 - val_loss: 0.2300 - val_accuracy: 0.9220\n",
      "Epoch 17/20\n",
      "296/296 [==============================] - 170s 575ms/step - loss: 0.2428 - accuracy: 0.9155 - val_loss: 0.1994 - val_accuracy: 0.9324\n",
      "Epoch 18/20\n",
      "296/296 [==============================] - 172s 583ms/step - loss: 0.2220 - accuracy: 0.9237 - val_loss: 0.2204 - val_accuracy: 0.9239\n",
      "Epoch 19/20\n",
      "296/296 [==============================] - 175s 590ms/step - loss: 0.2122 - accuracy: 0.9239 - val_loss: 0.2227 - val_accuracy: 0.9296\n",
      "Epoch 20/20\n",
      "296/296 [==============================] - 167s 565ms/step - loss: 0.2150 - accuracy: 0.9276 - val_loss: 0.1990 - val_accuracy: 0.9363\n"
     ]
    }
   ],
   "source": [
    "#fitting the model\n",
    "history=model.fit(train_data,train_target, validation_data=(test_data,test_target), epochs=20) #50-100"
   ]
  },
  {
   "cell_type": "code",
   "execution_count": 8,
   "metadata": {},
   "outputs": [
    {
     "data": {
      "text/plain": [
       "[<matplotlib.lines.Line2D at 0x1eb40d28df0>]"
      ]
     },
     "execution_count": 8,
     "metadata": {},
     "output_type": "execute_result"
    },
    {
     "data": {
      "image/png": "[encoded data removed]",
      "text/plain": [
       "<Figure size 640x480 with 1 Axes>"
      ]
     },
     "metadata": {},
     "output_type": "display_data"
    }
   ],
   "source": [
    "#Evaluating the performance\n",
    "from matplotlib import pyplot as plt\n",
    "\n",
    "plt.plot(history.history['loss'])\n",
    "plt.plot(history.history['val_loss'])"
   ]
  },
  {
   "cell_type": "code",
   "execution_count": 9,
   "metadata": {},
   "outputs": [
    {
     "data": {
      "text/plain": [
       "[<matplotlib.lines.Line2D at 0x1eb40d52910>]"
      ]
     },
     "execution_count": 9,
     "metadata": {},
     "output_type": "execute_result"
    },
    {
     "data": {
      "image/png": "[encoded data removed]",
      "text/plain": [
       "<Figure size 640x480 with 1 Axes>"
      ]
     },
     "metadata": {},
     "output_type": "display_data"
    }
   ],
   "source": [
    "plt.plot(history.history['accuracy'])\n",
    "plt.plot(history.history['val_accuracy'])"
   ]
  },
  {
   "cell_type": "code",
   "execution_count": 10,
   "metadata": {},
   "outputs": [
    {
     "name": "stdout",
     "output_type": "stream",
     "text": [
      "33/33 [==============================] - 5s 138ms/step - loss: 0.1990 - accuracy: 0.9363\n",
      "[0.19898925721645355, 0.936251163482666]\n"
     ]
    }
   ],
   "source": [
    "accc = model.evaluate(test_data,test_target)\n",
    "print(accc)"
   ]
  },
  {
   "cell_type": "code",
   "execution_count": 11,
   "metadata": {},
   "outputs": [],
   "source": [
    "#Saving the model and weights for future use\n",
    "model.save_weights(f'./model_AI_Car_Weights.h5')"
   ]
  },
  {
   "cell_type": "code",
   "execution_count": 12,
   "metadata": {},
   "outputs": [
    {
     "name": "stderr",
     "output_type": "stream",
     "text": [
      "c:\\Users\\Anjan GJ\\AppData\\Local\\Programs\\Python\\Python39\\lib\\site-packages\\keras\\src\\engine\\training.py:3079: UserWarning: You are saving your model as an HDF5 file via `model.save()`. This file format is considered legacy. We recommend using instead the native Keras format, e.g. `model.save('my_model.keras')`.\n",
      "  saving_api.save_model(\n"
     ]
    }
   ],
   "source": [
    "model.save(\"./model_AI_Car.h5\",save_format=\"h5\")"
   ]
  },
  {
   "cell_type": "code",
   "execution_count": null,
   "metadata": {},
   "outputs": [],
   "source": []
  }
 ],
 "metadata": {
  "kernelspec": {
   "display_name": "Python 3.9.1 64-bit",
   "language": "python",
   "name": "python3"
  },
  "language_info": {
   "codemirror_mode": {
    "name": "ipython",
    "version": 3
   },
   "file_extension": ".py",
   "mimetype": "text/x-python",
   "name": "python",
   "nbconvert_exporter": "python",
   "pygments_lexer": "ipython3",
   "version": "3.9.1"
  },
  "orig_nbformat": 4,
  "vscode": {
   "interpreter": {
    "hash": "fb992f18f5bd9fdffa80f0218facc7c988dd1a90a66352c4fc50081e39a0958b"
   }
  }
 },
 "nbformat": 4,
 "nbformat_minor": 2
}
